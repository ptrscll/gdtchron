{
 "cells": [
  {
   "cell_type": "markdown",
   "id": "ecac31cf-2524-4e31-a3c0-f9c08d660aa2",
   "metadata": {},
   "source": [
    "# Run ASPECT model\n",
    "Running this notebook requires that ASPECT is installed and that optimized mode can be accessed with `aspect-release`. If you are using ASPECT in the accompanying Docker container, this is already enabled."
   ]
  },
  {
   "cell_type": "code",
   "execution_count": null,
   "id": "6a4c56c2-2062-411e-9d8e-41e237d543ff",
   "metadata": {},
   "outputs": [],
   "source": [
    "# Show number of available processors on local system and divide by 2\n",
    "import os\n",
    "\n",
    "os.environ['NP'] = str(int(os.cpu_count() / 2))\n",
    "\n",
    "!echo $NP"
   ]
  },
  {
   "cell_type": "code",
   "execution_count": null,
   "id": "0108d788-c1ed-431c-a83e-1e4ef155b454",
   "metadata": {},
   "outputs": [],
   "source": [
    "# Run ASPECT on uplift_box model with half the system processors\n",
    "!mpirun -np $NP aspect-release uplift_box.prm"
   ]
  }
 ],
 "metadata": {
  "kernelspec": {
   "display_name": "Python 3 (ipykernel)",
   "language": "python",
   "name": "python3"
  },
  "language_info": {
   "codemirror_mode": {
    "name": "ipython",
    "version": 3
   },
   "file_extension": ".py",
   "mimetype": "text/x-python",
   "name": "python",
   "nbconvert_exporter": "python",
   "pygments_lexer": "ipython3",
   "version": "3.12.9"
  }
 },
 "nbformat": 4,
 "nbformat_minor": 5
}
